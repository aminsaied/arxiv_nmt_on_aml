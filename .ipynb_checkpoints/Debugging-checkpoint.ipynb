{
 "cells": [
  {
   "cell_type": "markdown",
   "metadata": {},
   "source": [
    "# Debugging\n",
    "\n",
    "`PreprocessData` step is unable to find the output files from `Ingest` step.\n",
    "\n",
    "Use the `PipelineRun` to debug."
   ]
  },
  {
   "cell_type": "code",
   "execution_count": 2,
   "metadata": {},
   "outputs": [],
   "source": [
    "from azureml.core import Workspace, Experiment\n",
    "from azureml.pipeline.core import PipelineRun, StepRun, PortDataReference"
   ]
  },
  {
   "cell_type": "code",
   "execution_count": 18,
   "metadata": {},
   "outputs": [
    {
     "name": "stdout",
     "output_type": "stream",
     "text": [
      "Output of step Preprocess Data\n",
      "Output of step Ingest\n",
      "\tname raw_data_dir\n",
      "\tdatastrore workspaceblobstore\n",
      "\tpath on datastore azureml/97dfb707-1b28-4dfa-900b-059ac44208bd/raw_data_dir\n"
     ]
    },
    {
     "data": {
      "text/plain": [
       "0"
      ]
     },
     "execution_count": 18,
     "metadata": {},
     "output_type": "execute_result"
    }
   ],
   "source": [
    "# select experiment/run\n",
    "exp_name = 'arXiv-NMT'\n",
    "run_id = '0c5d8282-8cfd-4556-9905-c10f9fbc993a'\n",
    "\n",
    "\n",
    "# load workspace\n",
    "ws = Workspace.from_config()\n",
    "\n",
    "# grab experiment\n",
    "exp = Experiment(workspace=ws, name=exp_name)\n",
    "\n",
    "# grab pipeline run\n",
    "pipeline_run = PipelineRun(experiment=exp, run_id=run_id)\n",
    "\n",
    "# peek at step details\n",
    "for step in pipeline_run.get_steps():\n",
    "    print('Output of step', step.name)\n",
    "    \n",
    "    # dict of StepRunOutputs with key = output name\n",
    "    output_dict = step.get_outputs()\n",
    "    \n",
    "    for name, output in output_dict.items():\n",
    "        \n",
    "        output_ref = output.get_port_data_reference()\n",
    "        print('\\tname', name)\n",
    "        print('\\tdatastrore', output_ref.datastore_name)\n",
    "        print('\\tpath on datastore', output_ref.path_on_datastore)\n",
    "        \n",
    "# download specified output data to local path\n",
    "LOCAL_PATH = '.'\n",
    "\n",
    "step_run = pipeline_run.find_step_run(\"Ingest\")[0]\n",
    "port_data_reference = step_run.get_output_data(\"raw_data_dir\")\n",
    "port_data_reference.download(LOCAL_PATH)"
   ]
  },
  {
   "cell_type": "code",
   "execution_count": 21,
   "metadata": {},
   "outputs": [
    {
     "name": "stderr",
     "output_type": "stream",
     "text": [
      "WARNING - Retrying (Retry(total=2, connect=2, read=3, redirect=None, status=None)) after connection broken by 'NewConnectionError('<urllib3.connection.VerifiedHTTPSConnection object at 0x000001CB7394C748>: Failed to establish a new connection: [Errno 11001] getaddrinfo failed',)': /api/v1.0/subscriptions/48bbc269-ce89-4f6f-9a12-c6f91fcb772d/resourceGroups/amsaied-dsvm-rg/providers/Microsoft.MachineLearningServices/workspaces/amsaied-dsvm-ws/DataTypes\n",
      "WARNING - Retrying (Retry(total=1, connect=1, read=3, redirect=None, status=None)) after connection broken by 'NewConnectionError('<urllib3.connection.VerifiedHTTPSConnection object at 0x000001CB7394C2E8>: Failed to establish a new connection: [Errno 11001] getaddrinfo failed',)': /api/v1.0/subscriptions/48bbc269-ce89-4f6f-9a12-c6f91fcb772d/resourceGroups/amsaied-dsvm-rg/providers/Microsoft.MachineLearningServices/workspaces/amsaied-dsvm-ws/DataTypes\n"
     ]
    },
    {
     "name": "stdout",
     "output_type": "stream",
     "text": [
      "Output of step Deploy Model\n",
      "\tname scoring_url\n",
      "\tdatastrore workspaceblobstore\n",
      "\tpath on datastore azureml/f9372656-24ed-4437-818a-e4ca7a3dd577/scoring_url\n",
      "Output of step Evaluate Model\n",
      "\tname accuracy_file\n",
      "\tdatastrore workspaceblobstore\n",
      "\tpath on datastore azureml/681880d4-de30-486e-996c-c4e0a099997b/accuracy_file\n",
      "Output of step Train Model\n",
      "\tname model_dir\n",
      "\tdatastrore workspaceblobstore\n",
      "\tpath on datastore azureml/4a66d2f2-3c65-443d-99dc-64185f724a7f/model_dir\n",
      "Output of step Preprocess Data\n",
      "\tname test_dir\n",
      "\tdatastrore workspaceblobstore\n",
      "\tpath on datastore azureml/54713d01-0d14-4acc-900a-ca7ec40b7354/test_dir\n",
      "\tname valid_dir\n",
      "\tdatastrore workspaceblobstore\n",
      "\tpath on datastore azureml/54713d01-0d14-4acc-900a-ca7ec40b7354/valid_dir\n",
      "\tname train_dir\n",
      "\tdatastrore workspaceblobstore\n",
      "\tpath on datastore azureml/54713d01-0d14-4acc-900a-ca7ec40b7354/train_dir\n",
      "Output of step Data Ingestion\n",
      "\tname raw_data_dir\n",
      "\tdatastrore workspaceblobstore\n",
      "\tpath on datastore azureml/35de20cd-f871-4b86-87a7-00dd1597b9b1/raw_data_dir\n"
     ]
    },
    {
     "name": "stderr",
     "output_type": "stream",
     "text": [
      "WARNING - Retrying (Retry(total=2, connect=2, read=3, redirect=None, status=None)) after connection broken by 'NewConnectionError('<urllib3.connection.VerifiedHTTPSConnection object at 0x000001CB73AE5B00>: Failed to establish a new connection: [Errno 11001] getaddrinfo failed',)': /api/v1.0/subscriptions/48bbc269-ce89-4f6f-9a12-c6f91fcb772d/resourceGroups/amsaied-dsvm-rg/providers/Microsoft.MachineLearningServices/workspaces/amsaied-dsvm-ws/PipelineRuns/4ec230e3-90b7-4ee6-b5f9-c1b660a62ad3\n",
      "WARNING - Retrying (Retry(total=1, connect=1, read=3, redirect=None, status=None)) after connection broken by 'NewConnectionError('<urllib3.connection.VerifiedHTTPSConnection object at 0x000001CB73B0C048>: Failed to establish a new connection: [Errno 11001] getaddrinfo failed',)': /api/v1.0/subscriptions/48bbc269-ce89-4f6f-9a12-c6f91fcb772d/resourceGroups/amsaied-dsvm-rg/providers/Microsoft.MachineLearningServices/workspaces/amsaied-dsvm-ws/PipelineRuns/4ec230e3-90b7-4ee6-b5f9-c1b660a62ad3\n"
     ]
    },
    {
     "data": {
      "text/plain": [
       "1010"
      ]
     },
     "execution_count": 21,
     "metadata": {},
     "output_type": "execute_result"
    }
   ],
   "source": [
    "# select experiment/run\n",
    "exp_name = 'Object-Recognition-Demo'\n",
    "run_id = '4ec230e3-90b7-4ee6-b5f9-c1b660a62ad3'\n",
    "\n",
    "\n",
    "# load workspace\n",
    "ws = Workspace.from_config()\n",
    "\n",
    "# grab experiment\n",
    "exp = Experiment(workspace=ws, name=exp_name)\n",
    "\n",
    "# grab pipeline run\n",
    "pipeline_run = PipelineRun(experiment=exp, run_id=run_id)\n",
    "\n",
    "# peek at step details\n",
    "for step in pipeline_run.get_steps():\n",
    "    print('Output of step', step.name)\n",
    "    \n",
    "    # dict of StepRunOutputs with key = output name\n",
    "    output_dict = step.get_outputs()\n",
    "    \n",
    "    for name, output in output_dict.items():\n",
    "        \n",
    "        output_ref = output.get_port_data_reference()\n",
    "        print('\\tname', name)\n",
    "        print('\\tdatastrore', output_ref.datastore_name)\n",
    "        print('\\tpath on datastore', output_ref.path_on_datastore)\n",
    "        \n",
    "# download specified output data to local path\n",
    "LOCAL_PATH = '.'\n",
    "\n",
    "step_run = pipeline_run.find_step_run(\"Data Ingestion\")[0]\n",
    "port_data_reference = step_run.get_output_data(\"raw_data_dir\")\n",
    "port_data_reference.download(LOCAL_PATH)"
   ]
  }
 ],
 "metadata": {
  "kernelspec": {
   "display_name": "Python 3",
   "language": "python",
   "name": "python3"
  },
  "language_info": {
   "codemirror_mode": {
    "name": "ipython",
    "version": 3
   },
   "file_extension": ".py",
   "mimetype": "text/x-python",
   "name": "python",
   "nbconvert_exporter": "python",
   "pygments_lexer": "ipython3",
   "version": "3.6.5"
  }
 },
 "nbformat": 4,
 "nbformat_minor": 4
}
